{
 "cells": [
  {
   "cell_type": "code",
   "execution_count": 1,
   "metadata": {},
   "outputs": [],
   "source": [
    "import z3\n",
    "from itertools import combinations, product\n",
    "\n",
    "I = list(range(1, 10))\n",
    "P = list(product(I, I))\n",
    "X = {p: z3.Int(f\"X{p[0]}{p[1]}\") for p in P}\n",
    "diff = lambda p, q: {abs(p[0] - q[0]), abs(p[1] - q[1])}\n",
    "\n",
    "Classic = (\n",
    "    [z3.And(1 <= X[p], X[p] <= 9) for p in P]\n",
    "    + [z3.Distinct([X[i, j] for j in I]) for i in I]\n",
    "    + [z3.Distinct([X[i, j] for i in I]) for j in I]\n",
    "    + [\n",
    "        z3.Distinct([X[i + di, j + dj] for (di, dj) in product(range(3), repeat=2)])\n",
    "        for (i, j) in product(range(1, 10, 3), repeat=2)\n",
    "    ]\n",
    ")\n",
    "\n",
    "AntiKnight = [X[p] != X[q] for p, q in combinations(P, 2) if diff(p, q) == {1, 2}]\n",
    "AntiKing = [X[p] != X[q] for p, q in combinations(P, 2) if diff(p, q) == {1}]\n",
    "OrthNotAdj = [\n",
    "    z3.And(X[p] - X[q] != 1, X[p] - X[q] != -1)\n",
    "    for p, q in combinations(P, 2)\n",
    "    if diff(p, q) == {0, 1}\n",
    "]\n",
    "\n",
    "Given = lambda gs: [X[p] == k for p, k in gs.items()]\n",
    "\n",
    "\n",
    "def solve(*cs):\n",
    "    solver = z3.Solver()\n",
    "    for c in cs:\n",
    "        solver.add(c)\n",
    "\n",
    "    assert solver.check() == z3.sat\n",
    "    m = solver.model()\n",
    "\n",
    "    template = \"\\n\".join(\n",
    "        [\n",
    "            \"╭───────┬───────┬───────╮\",\n",
    "            \"| x x x | x x x | x x x |\",\n",
    "            \"| x x x | x x x | x x x |\",\n",
    "            \"| x x x | x x x | x x x |\",\n",
    "            \"├───────┼───────┼───────┤\",\n",
    "            \"| x x x | x x x | x x x |\",\n",
    "            \"| x x x | x x x | x x x |\",\n",
    "            \"| x x x | x x x | x x x |\",\n",
    "            \"├───────┼───────┼───────┤\",\n",
    "            \"| x x x | x x x | x x x |\",\n",
    "            \"| x x x | x x x | x x x |\",\n",
    "            \"| x x x | x x x | x x x |\",\n",
    "            \"╰───────┴───────┴───────╯\",\n",
    "        ]\n",
    "    )\n",
    "    it = iter(P)\n",
    "    print(\"\".join(str(m.evaluate(X[next(it)])) if t == \"x\" else t for t in template))"
   ]
  },
  {
   "cell_type": "code",
   "execution_count": 2,
   "metadata": {},
   "outputs": [
    {
     "name": "stdout",
     "output_type": "stream",
     "text": [
      "╭───────┬───────┬───────╮\n",
      "| 4 8 3 | 7 2 6 | 1 5 9 |\n",
      "| 7 2 6 | 1 5 9 | 4 8 3 |\n",
      "| 1 5 9 | 4 8 3 | 7 2 6 |\n",
      "├───────┼───────┼───────┤\n",
      "| 8 3 7 | 2 6 1 | 5 9 4 |\n",
      "| 2 6 1 | 5 9 4 | 8 3 7 |\n",
      "| 5 9 4 | 8 3 7 | 2 6 1 |\n",
      "├───────┼───────┼───────┤\n",
      "| 3 7 2 | 6 1 5 | 9 4 8 |\n",
      "| 6 1 5 | 9 4 8 | 3 7 2 |\n",
      "| 9 4 8 | 3 7 2 | 6 1 5 |\n",
      "╰───────┴───────┴───────╯\n"
     ]
    }
   ],
   "source": [
    "# Miracle Sudoku (https://www.youtube.com/watch?v=yKf9aUIxdb4)\n",
    "solve(\n",
    "    Classic,\n",
    "    AntiKnight,\n",
    "    AntiKing,\n",
    "    OrthNotAdj,\n",
    "    Given({(5, 3): 1, (6, 7): 2}),\n",
    ")"
   ]
  }
 ],
 "metadata": {
  "kernelspec": {
   "display_name": ".venv",
   "language": "python",
   "name": "python3"
  },
  "language_info": {
   "codemirror_mode": {
    "name": "ipython",
    "version": 3
   },
   "file_extension": ".py",
   "mimetype": "text/x-python",
   "name": "python",
   "nbconvert_exporter": "python",
   "pygments_lexer": "ipython3",
   "version": "3.13.0"
  }
 },
 "nbformat": 4,
 "nbformat_minor": 2
}
